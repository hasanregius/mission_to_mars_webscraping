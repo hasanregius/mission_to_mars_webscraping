{
 "cells": [
  {
   "cell_type": "markdown",
   "metadata": {},
   "source": [
    "# Mission to Mars Webscraping\n",
    "\n",
    "![](Images/tammiebrown.gif)\n",
    "\n",
    "----\n",
    "\n",
    "\n",
    "## Importing Dependencies"
   ]
  },
  {
   "cell_type": "code",
   "execution_count": 2,
   "metadata": {
    "collapsed": true
   },
   "outputs": [],
   "source": [
    "# Library\n",
    "from bs4 import BeautifulSoup as bs\n",
    "from splinter import Browser\n",
    "import os\n",
    "import pandas as pd\n",
    "import time"
   ]
  },
  {
   "cell_type": "code",
   "execution_count": null,
   "metadata": {
    "collapsed": true
   },
   "outputs": [],
   "source": [
    "# Opens browser\n",
    "path = {'executable_path': '../chromedriver'}\n",
    "browser = Browser('chrome', **path, headless=False)"
   ]
  },
  {
   "cell_type": "markdown",
   "metadata": {},
   "source": [
    "----\n",
    "\n",
    "## Step 1 - Scraping\n",
    "\n",
    "### NASA Mars News "
   ]
  },
  {
   "cell_type": "code",
   "execution_count": 6,
   "metadata": {},
   "outputs": [],
   "source": [
    "# Set the URL to visit\n",
    "browser.visit(\"https://mars.nasa.gov/news/\")\n",
    "\n",
    "# Parsed\n",
    "parsed = bs(browser.html,'html.parser')\n",
    "\n",
    "# Retrieve a list of the headings\n",
    "article_headings = []\n",
    "for article_heading in parsed.find_all('div',class_=\"content_title\"):\n",
    "    article_headings.append(article_heading.find('a').text)\n",
    "\n",
    "# Retrieve a list of the article teaser texts\n",
    "article_bodies = []\n",
    "for article_body in parsed.find_all('div',class_=\"article_teaser_body\"):\n",
    "    article_bodies.append(article_body.text)\n",
    "    \n",
    "# Getting the latest news and saving the header and body as a variable\n",
    "# This is so we can reference them later\n",
    "latest_news_heading = article_headings[0]\n",
    "latest_news_teaser = article_bodies[0]"
   ]
  },
  {
   "cell_type": "markdown",
   "metadata": {},
   "source": [
    "### JPL Mars Space Images - Featured Image"
   ]
  },
  {
   "cell_type": "code",
   "execution_count": 15,
   "metadata": {},
   "outputs": [],
   "source": [
    "# Set the URL\n",
    "browser.visit(\"https://www.jpl.nasa.gov/spaceimages/?search=&category=Mars\")\n",
    "\n",
    "# Parsed\n",
    "parsed = bs(browser.html,'html.parser')\n",
    "\n",
    "# Retrieving all images\n",
    "images = []\n",
    "for image in parsed.find_all('div',class_=\"img\"):\n",
    "    images.append(image.find('img').get('src'))\n",
    "\n",
    "# Finding the most recent image\n",
    "# from the list retrieved it seems like it's at the maximum resolution (640x350)\n",
    "latest_image = images[0]\n",
    "featured_image_url = \"https://www.jpl.nasa.gov\" + latest_image"
   ]
  },
  {
   "cell_type": "markdown",
   "metadata": {},
   "source": [
    "### Mars Weather"
   ]
  },
  {
   "cell_type": "code",
   "execution_count": 28,
   "metadata": {},
   "outputs": [],
   "source": [
    "# Set the URL\n",
    "browser.visit(\"https://twitter.com/marswxreport?lang=en\")\n",
    "\n",
    "# Parsed\n",
    "parsed = bs(browser.html,'html.parser')\n",
    "\n",
    "# Retrieving all tweets\n",
    "tweets = []\n",
    "for tweet in parsed.find_all('p',class_=\"TweetTextSize TweetTextSize--normal js-tweet-text tweet-text\"):\n",
    "    tweets.append(tweet.text)\n",
    "    \n",
    "# Finding the most recent tweet\n",
    "mars_weather = tweets[0]"
   ]
  },
  {
   "cell_type": "markdown",
   "metadata": {},
   "source": [
    "### Mars Facts"
   ]
  },
  {
   "cell_type": "code",
   "execution_count": 34,
   "metadata": {},
   "outputs": [
    {
     "data": {
      "text/html": [
       "<div>\n",
       "<style>\n",
       "    .dataframe thead tr:only-child th {\n",
       "        text-align: right;\n",
       "    }\n",
       "\n",
       "    .dataframe thead th {\n",
       "        text-align: left;\n",
       "    }\n",
       "\n",
       "    .dataframe tbody tr th {\n",
       "        vertical-align: top;\n",
       "    }\n",
       "</style>\n",
       "<table border=\"1\" class=\"dataframe\">\n",
       "  <thead>\n",
       "    <tr style=\"text-align: right;\">\n",
       "      <th></th>\n",
       "      <th>Variable</th>\n",
       "      <th>Value</th>\n",
       "    </tr>\n",
       "  </thead>\n",
       "  <tbody>\n",
       "    <tr>\n",
       "      <th>0</th>\n",
       "      <td>Equatorial Diameter:</td>\n",
       "      <td>6,792 km</td>\n",
       "    </tr>\n",
       "    <tr>\n",
       "      <th>1</th>\n",
       "      <td>Polar Diameter:</td>\n",
       "      <td>6,752 km</td>\n",
       "    </tr>\n",
       "    <tr>\n",
       "      <th>2</th>\n",
       "      <td>Mass:</td>\n",
       "      <td>6.42 x 10^23 kg (10.7% Earth)</td>\n",
       "    </tr>\n",
       "    <tr>\n",
       "      <th>3</th>\n",
       "      <td>Moons:</td>\n",
       "      <td>2 (Phobos &amp; Deimos)</td>\n",
       "    </tr>\n",
       "    <tr>\n",
       "      <th>4</th>\n",
       "      <td>Orbit Distance:</td>\n",
       "      <td>227,943,824 km (1.52 AU)</td>\n",
       "    </tr>\n",
       "    <tr>\n",
       "      <th>5</th>\n",
       "      <td>Orbit Period:</td>\n",
       "      <td>687 days (1.9 years)</td>\n",
       "    </tr>\n",
       "    <tr>\n",
       "      <th>6</th>\n",
       "      <td>Surface Temperature:</td>\n",
       "      <td>-153 to 20 °C</td>\n",
       "    </tr>\n",
       "    <tr>\n",
       "      <th>7</th>\n",
       "      <td>First Record:</td>\n",
       "      <td>2nd millennium BC</td>\n",
       "    </tr>\n",
       "    <tr>\n",
       "      <th>8</th>\n",
       "      <td>Recorded By:</td>\n",
       "      <td>Egyptian astronomers</td>\n",
       "    </tr>\n",
       "  </tbody>\n",
       "</table>\n",
       "</div>"
      ],
      "text/plain": [
       "               Variable                          Value\n",
       "0  Equatorial Diameter:                       6,792 km\n",
       "1       Polar Diameter:                       6,752 km\n",
       "2                 Mass:  6.42 x 10^23 kg (10.7% Earth)\n",
       "3                Moons:            2 (Phobos & Deimos)\n",
       "4       Orbit Distance:       227,943,824 km (1.52 AU)\n",
       "5         Orbit Period:           687 days (1.9 years)\n",
       "6  Surface Temperature:                  -153 to 20 °C\n",
       "7         First Record:              2nd millennium BC\n",
       "8          Recorded By:           Egyptian astronomers"
      ]
     },
     "execution_count": 34,
     "metadata": {},
     "output_type": "execute_result"
    }
   ],
   "source": [
    "# Setting up the DF\n",
    "facts_df = pd.read_html(\"http://space-facts.com/mars/\")[0]\n",
    "facts_df.rename_axis({0:\"Variable\", 1:\"Value\"},axis=1, inplace=True)\n",
    "\n",
    "# Saving the DF as an HTML table string\n",
    "facts_df_html = facts_df.to_html(\"facts_df.html\", index=False)\n",
    "\n",
    "# Doublechecking the DF\n",
    "facts_df"
   ]
  },
  {
   "cell_type": "markdown",
   "metadata": {},
   "source": [
    "### Mars Hemispheres"
   ]
  },
  {
   "cell_type": "code",
   "execution_count": 66,
   "metadata": {},
   "outputs": [],
   "source": [
    "# Setup the URL\n",
    "browser.visit(\"https://astrogeology.usgs.gov/search/results?q=hemisphere+enhanced&k1=target&v1=Mars\")\n",
    "\n",
    "# Parsed\n",
    "parsed = bs(browser.html,'html.parser')\n",
    "\n",
    "# Fetch hemisphere image titles\n",
    "hemisphere_titles = []\n",
    "for title in parsed.find_all('div',class_=\"description\"):\n",
    "    hemisphere_titles.append(title.find('h3').text)\n",
    "\n",
    "# Getting the titles as a link format so we can get the full size images\n",
    "hemispheres = [\"cerberus\", \"schiaparelli\", \"syrtis_major\", \"valles_marineris\"]\n",
    "\n",
    "# Fetch hemisphere image URLs\n",
    "hemisphere_images = []\n",
    "for name in hemispheres:\n",
    "    hemisphere_images.append(\"https://astrogeology.usgs.gov/download/Mars/Viking/\" + name + \"_enhanced.tiff\")\n",
    "\n",
    "# Saved as a dictionary. Not sure what was meant by appending a list so we have one dictionary per hemisphere? \n",
    "# So I made two dictionaries, one with title and url as the key, and one as the title for the key\n",
    "hemisphere_image_urls_key = {\"title\":hemisphere_titles,\"img_url\":hemisphere_images}\n",
    "hemisphere_image_urls = dict(zip(hemisphere_titles, hemisphere_images))"
   ]
  }
 ],
 "metadata": {
  "kernelspec": {
   "display_name": "Python 3",
   "language": "python",
   "name": "python3"
  },
  "language_info": {
   "codemirror_mode": {
    "name": "ipython",
    "version": 3
   },
   "file_extension": ".py",
   "mimetype": "text/x-python",
   "name": "python",
   "nbconvert_exporter": "python",
   "pygments_lexer": "ipython3",
   "version": "3.6.3"
  }
 },
 "nbformat": 4,
 "nbformat_minor": 2
}
